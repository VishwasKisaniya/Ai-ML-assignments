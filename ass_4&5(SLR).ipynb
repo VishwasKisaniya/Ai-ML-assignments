{
 "cells": [
  {
   "cell_type": "markdown",
   "metadata": {
    "id": "kz1YwdDAbwZZ"
   },
   "source": [
    "![](../../intel_datalore_logo_wide.png)"
   ]
  },
  {
   "cell_type": "markdown",
   "metadata": {
    "id": "yPnYQMO-bwZc"
   },
   "source": [
    "Simple Linear Regression\n",
    "==="
   ]
  },
  {
   "cell_type": "code",
   "execution_count": 9,
   "metadata": {
    "id": "q2iPDtRSbwZd"
   },
   "outputs": [],
   "source": [
    "# Setup\n",
    "import numpy as np\n",
    "np.set_printoptions(suppress=True) # for cleaner number printing"
   ]
  },
  {
   "cell_type": "markdown",
   "metadata": {
    "id": "EwNMs8g3bwZe"
   },
   "source": [
    "## Problem Definition\n",
    "\n",
    "Let's consider a dataset of 50 houses which has the infomation about area and price of individual houses. Understanding the relation between these two variables, price and area,  can help the buyer to verify the price of the house or a builder to set the price of a new house based on existing houses data.\n",
    "\n",
    "This kind of problem is solved using regression."
   ]
  },
  {
   "cell_type": "markdown",
   "metadata": {
    "id": "bt2xL8PcbwZf"
   },
   "source": [
    "## Intuition"
   ]
  },
  {
   "cell_type": "markdown",
   "metadata": {
    "id": "Pp9KybVBbwZf"
   },
   "source": [
    "Let's see an example of Simple Linear Regression. Consider the following plot, which explains the variation of price of a house with respect to area of the house.\n",
    "\n",
    "<img src=\"../img/image_1.png\"/>\n",
    "\n",
    "There are many observations of houses with different prices and areas. Regression can be thought of as drawing a line through the points, which best describes or fits them.\n",
    "\n",
    "<img src=\"../img/image_2.png\"/>\n",
    "\n",
    "What qualifies the fitted line as **best fit**? This is discussed in the next section.\n",
    "\n",
    "Regression is formulated as $y = mx + c$ and for this case, **Price** is the target variable and **Area** is Feature Variable, thus the equation can be expressed as **Price = $m$ * Area + $c$**. For now, let's assume the above is the best fit line.\n",
    "\n",
    "Significance of **m** and **c**: \n",
    "\n",
    "* '**m**' explains the change in price per unit change in the area. So, if slope is more, change in price per unit change in area is more.\n",
    "\n",
    "* '**c**' gives the price when the area is zero.\n",
    "\n",
    "We had assumed that we got the best fit line. Now, let's understand how to get to that **best fit line** or how Simple Linear Regression can get that best fit line for us.\n",
    "\n",
    "\n",
    "### Error Minimization \n",
    "\n",
    "Let's observe the following chart which explains both the actual values of prices from the collected data and the predicted values of prices by Linear Regression.\n",
    "\n",
    "<img src=\"../img/image_3.png\"/>\n",
    "\n",
    "Values plotted in the graph are actual prices and in order to get the predicted prices, we may just use the regression line (in red colour) for the same value of area. It is clearly evident that, there are some mismatach in predicted and actual values for all the obsevation points.  Considering a specific example of `1600` square feet, actual price is `8074000` rupees, but our model predicts it to be around `9200000` rupees. This difference between actual and predicted value of output is called **error**, which in this case is around Rs. `1126000`.\n",
    "\n",
    "**Error = Actual value - Predicted value**.\n",
    "\n",
    "The following plot describes the notion of error. The length of the vertical line joining a data point and regression line depicts the magnitude of the error in the model's prediction and the data point. Even though most of the points are not exactly predicted, the regression line has a minimum possible overall error.\n",
    "\n",
    "<img src=\"../img/error.png\"/>\n",
    "\n",
    "The best fit line has the minimum Sum of the Squared Errors $(SSE)$ for all the observations. We will visit $SSE$ in the later sections to understand the fitness of the line.\n",
    "\n",
    "Linear Regression model starts with a random line and then slowly moves the line towards training set of points.\n",
    "Moving of line towards data points is eqvivalent to minimizing the overall error. When an ideal line if found the algorithm terminates. The line which has minimum overall error is the **best fit line** and the method is called **ordinary least square method**."
   ]
  },
  {
   "cell_type": "markdown",
   "metadata": {
    "id": "BGg32JScbwZg"
   },
   "source": [
    "__Illustration: Learning of Linear Regression__"
   ]
  },
  {
   "cell_type": "markdown",
   "metadata": {
    "id": "DN9u7WsabwZi"
   },
   "source": [
    "## Simple Linear Regression in Scikit-Learn"
   ]
  },
  {
   "cell_type": "markdown",
   "metadata": {
    "id": "95msaXVmbwZj"
   },
   "source": [
    "To begin with, all necessary libraries are imported."
   ]
  },
  {
   "cell_type": "code",
   "execution_count": 10,
   "metadata": {
    "id": "VsJhX9fobwZj"
   },
   "outputs": [],
   "source": [
    "import numpy as np\n",
    "import pandas as pd\n",
    "import matplotlib.pyplot as plt\n",
    "import seaborn as sns\n",
    "\n",
    "sns.set_style(\"ticks\")\n",
    "%matplotlib inline\n",
    "#plt.style.use(\"seaborn-poster\") # make bigger plots!"
   ]
  },
  {
   "cell_type": "markdown",
   "metadata": {
    "id": "VYELIexrbwZj"
   },
   "source": [
    "Now, lets load the dataset to variable **df** (short for dataframe).\n",
    "\n",
    "Let's load the data using pandas."
   ]
  },
  {
   "cell_type": "code",
   "execution_count": 11,
   "metadata": {
    "colab": {
     "base_uri": "https://localhost:8080/",
     "height": 1000
    },
    "id": "1bxph917bwZj",
    "outputId": "35a70787-f34a-432c-cf02-d2d518f243d0"
   },
   "outputs": [
    {
     "data": {
      "text/html": [
       "<div>\n",
       "<style scoped>\n",
       "    .dataframe tbody tr th:only-of-type {\n",
       "        vertical-align: middle;\n",
       "    }\n",
       "\n",
       "    .dataframe tbody tr th {\n",
       "        vertical-align: top;\n",
       "    }\n",
       "\n",
       "    .dataframe thead th {\n",
       "        text-align: right;\n",
       "    }\n",
       "</style>\n",
       "<table border=\"1\" class=\"dataframe\">\n",
       "  <thead>\n",
       "    <tr style=\"text-align: right;\">\n",
       "      <th></th>\n",
       "      <th>AREA</th>\n",
       "      <th>PRICE</th>\n",
       "    </tr>\n",
       "  </thead>\n",
       "  <tbody>\n",
       "    <tr>\n",
       "      <th>0</th>\n",
       "      <td>1000</td>\n",
       "      <td>5617528.34</td>\n",
       "    </tr>\n",
       "    <tr>\n",
       "      <th>1</th>\n",
       "      <td>1030</td>\n",
       "      <td>5201397.67</td>\n",
       "    </tr>\n",
       "    <tr>\n",
       "      <th>2</th>\n",
       "      <td>1060</td>\n",
       "      <td>4778957.34</td>\n",
       "    </tr>\n",
       "    <tr>\n",
       "      <th>3</th>\n",
       "      <td>1090</td>\n",
       "      <td>5424564.78</td>\n",
       "    </tr>\n",
       "    <tr>\n",
       "      <th>4</th>\n",
       "      <td>1120</td>\n",
       "      <td>5657235.90</td>\n",
       "    </tr>\n",
       "    <tr>\n",
       "      <th>5</th>\n",
       "      <td>1150</td>\n",
       "      <td>4944801.22</td>\n",
       "    </tr>\n",
       "    <tr>\n",
       "      <th>6</th>\n",
       "      <td>1180</td>\n",
       "      <td>6474952.94</td>\n",
       "    </tr>\n",
       "    <tr>\n",
       "      <th>7</th>\n",
       "      <td>1210</td>\n",
       "      <td>5351641.54</td>\n",
       "    </tr>\n",
       "    <tr>\n",
       "      <th>8</th>\n",
       "      <td>1240</td>\n",
       "      <td>6289541.05</td>\n",
       "    </tr>\n",
       "    <tr>\n",
       "      <th>9</th>\n",
       "      <td>1270</td>\n",
       "      <td>6147374.49</td>\n",
       "    </tr>\n",
       "    <tr>\n",
       "      <th>10</th>\n",
       "      <td>1300</td>\n",
       "      <td>7717652.75</td>\n",
       "    </tr>\n",
       "    <tr>\n",
       "      <th>11</th>\n",
       "      <td>1330</td>\n",
       "      <td>7034644.09</td>\n",
       "    </tr>\n",
       "    <tr>\n",
       "      <th>12</th>\n",
       "      <td>1360</td>\n",
       "      <td>8711980.68</td>\n",
       "    </tr>\n",
       "    <tr>\n",
       "      <th>13</th>\n",
       "      <td>1390</td>\n",
       "      <td>9457409.28</td>\n",
       "    </tr>\n",
       "    <tr>\n",
       "      <th>14</th>\n",
       "      <td>1420</td>\n",
       "      <td>7303844.72</td>\n",
       "    </tr>\n",
       "    <tr>\n",
       "      <th>15</th>\n",
       "      <td>1450</td>\n",
       "      <td>7535461.53</td>\n",
       "    </tr>\n",
       "    <tr>\n",
       "      <th>16</th>\n",
       "      <td>1480</td>\n",
       "      <td>9967519.85</td>\n",
       "    </tr>\n",
       "    <tr>\n",
       "      <th>17</th>\n",
       "      <td>1510</td>\n",
       "      <td>7614220.00</td>\n",
       "    </tr>\n",
       "    <tr>\n",
       "      <th>18</th>\n",
       "      <td>1540</td>\n",
       "      <td>9761757.42</td>\n",
       "    </tr>\n",
       "    <tr>\n",
       "      <th>19</th>\n",
       "      <td>1570</td>\n",
       "      <td>10066834.67</td>\n",
       "    </tr>\n",
       "    <tr>\n",
       "      <th>20</th>\n",
       "      <td>1600</td>\n",
       "      <td>8073815.28</td>\n",
       "    </tr>\n",
       "    <tr>\n",
       "      <th>21</th>\n",
       "      <td>1630</td>\n",
       "      <td>10200978.75</td>\n",
       "    </tr>\n",
       "    <tr>\n",
       "      <th>22</th>\n",
       "      <td>1660</td>\n",
       "      <td>10050908.90</td>\n",
       "    </tr>\n",
       "    <tr>\n",
       "      <th>23</th>\n",
       "      <td>1690</td>\n",
       "      <td>9774888.31</td>\n",
       "    </tr>\n",
       "    <tr>\n",
       "      <th>24</th>\n",
       "      <td>1720</td>\n",
       "      <td>10229062.76</td>\n",
       "    </tr>\n",
       "    <tr>\n",
       "      <th>25</th>\n",
       "      <td>1750</td>\n",
       "      <td>8314071.64</td>\n",
       "    </tr>\n",
       "    <tr>\n",
       "      <th>26</th>\n",
       "      <td>1780</td>\n",
       "      <td>9287983.04</td>\n",
       "    </tr>\n",
       "    <tr>\n",
       "      <th>27</th>\n",
       "      <td>1810</td>\n",
       "      <td>10503302.71</td>\n",
       "    </tr>\n",
       "    <tr>\n",
       "      <th>28</th>\n",
       "      <td>1840</td>\n",
       "      <td>9763293.70</td>\n",
       "    </tr>\n",
       "    <tr>\n",
       "      <th>29</th>\n",
       "      <td>1870</td>\n",
       "      <td>11526886.08</td>\n",
       "    </tr>\n",
       "    <tr>\n",
       "      <th>30</th>\n",
       "      <td>1900</td>\n",
       "      <td>9912288.39</td>\n",
       "    </tr>\n",
       "    <tr>\n",
       "      <th>31</th>\n",
       "      <td>1930</td>\n",
       "      <td>10204168.56</td>\n",
       "    </tr>\n",
       "    <tr>\n",
       "      <th>32</th>\n",
       "      <td>1960</td>\n",
       "      <td>9085279.91</td>\n",
       "    </tr>\n",
       "    <tr>\n",
       "      <th>33</th>\n",
       "      <td>1990</td>\n",
       "      <td>10240098.23</td>\n",
       "    </tr>\n",
       "    <tr>\n",
       "      <th>34</th>\n",
       "      <td>2020</td>\n",
       "      <td>15220368.60</td>\n",
       "    </tr>\n",
       "    <tr>\n",
       "      <th>35</th>\n",
       "      <td>2050</td>\n",
       "      <td>12277970.63</td>\n",
       "    </tr>\n",
       "    <tr>\n",
       "      <th>36</th>\n",
       "      <td>2080</td>\n",
       "      <td>22270473.64</td>\n",
       "    </tr>\n",
       "    <tr>\n",
       "      <th>37</th>\n",
       "      <td>2110</td>\n",
       "      <td>12574439.45</td>\n",
       "    </tr>\n",
       "    <tr>\n",
       "      <th>38</th>\n",
       "      <td>2140</td>\n",
       "      <td>12617860.41</td>\n",
       "    </tr>\n",
       "    <tr>\n",
       "      <th>39</th>\n",
       "      <td>2170</td>\n",
       "      <td>15457320.93</td>\n",
       "    </tr>\n",
       "    <tr>\n",
       "      <th>40</th>\n",
       "      <td>2200</td>\n",
       "      <td>12793010.05</td>\n",
       "    </tr>\n",
       "    <tr>\n",
       "      <th>41</th>\n",
       "      <td>2230</td>\n",
       "      <td>12640883.01</td>\n",
       "    </tr>\n",
       "    <tr>\n",
       "      <th>42</th>\n",
       "      <td>2260</td>\n",
       "      <td>17207103.58</td>\n",
       "    </tr>\n",
       "    <tr>\n",
       "      <th>43</th>\n",
       "      <td>2290</td>\n",
       "      <td>16968517.78</td>\n",
       "    </tr>\n",
       "    <tr>\n",
       "      <th>44</th>\n",
       "      <td>2320</td>\n",
       "      <td>16292734.63</td>\n",
       "    </tr>\n",
       "    <tr>\n",
       "      <th>45</th>\n",
       "      <td>2350</td>\n",
       "      <td>16844832.74</td>\n",
       "    </tr>\n",
       "    <tr>\n",
       "      <th>46</th>\n",
       "      <td>2380</td>\n",
       "      <td>17604075.37</td>\n",
       "    </tr>\n",
       "    <tr>\n",
       "      <th>47</th>\n",
       "      <td>2410</td>\n",
       "      <td>17310328.58</td>\n",
       "    </tr>\n",
       "    <tr>\n",
       "      <th>48</th>\n",
       "      <td>2440</td>\n",
       "      <td>14035821.57</td>\n",
       "    </tr>\n",
       "    <tr>\n",
       "      <th>49</th>\n",
       "      <td>2470</td>\n",
       "      <td>13698832.88</td>\n",
       "    </tr>\n",
       "  </tbody>\n",
       "</table>\n",
       "</div>"
      ],
      "text/plain": [
       "    AREA        PRICE\n",
       "0   1000   5617528.34\n",
       "1   1030   5201397.67\n",
       "2   1060   4778957.34\n",
       "3   1090   5424564.78\n",
       "4   1120   5657235.90\n",
       "5   1150   4944801.22\n",
       "6   1180   6474952.94\n",
       "7   1210   5351641.54\n",
       "8   1240   6289541.05\n",
       "9   1270   6147374.49\n",
       "10  1300   7717652.75\n",
       "11  1330   7034644.09\n",
       "12  1360   8711980.68\n",
       "13  1390   9457409.28\n",
       "14  1420   7303844.72\n",
       "15  1450   7535461.53\n",
       "16  1480   9967519.85\n",
       "17  1510   7614220.00\n",
       "18  1540   9761757.42\n",
       "19  1570  10066834.67\n",
       "20  1600   8073815.28\n",
       "21  1630  10200978.75\n",
       "22  1660  10050908.90\n",
       "23  1690   9774888.31\n",
       "24  1720  10229062.76\n",
       "25  1750   8314071.64\n",
       "26  1780   9287983.04\n",
       "27  1810  10503302.71\n",
       "28  1840   9763293.70\n",
       "29  1870  11526886.08\n",
       "30  1900   9912288.39\n",
       "31  1930  10204168.56\n",
       "32  1960   9085279.91\n",
       "33  1990  10240098.23\n",
       "34  2020  15220368.60\n",
       "35  2050  12277970.63\n",
       "36  2080  22270473.64\n",
       "37  2110  12574439.45\n",
       "38  2140  12617860.41\n",
       "39  2170  15457320.93\n",
       "40  2200  12793010.05\n",
       "41  2230  12640883.01\n",
       "42  2260  17207103.58\n",
       "43  2290  16968517.78\n",
       "44  2320  16292734.63\n",
       "45  2350  16844832.74\n",
       "46  2380  17604075.37\n",
       "47  2410  17310328.58\n",
       "48  2440  14035821.57\n",
       "49  2470  13698832.88"
      ]
     },
     "execution_count": 11,
     "metadata": {},
     "output_type": "execute_result"
    }
   ],
   "source": [
    "df = pd.read_csv('data.csv') \n",
    "df\n"
   ]
  },
  {
   "cell_type": "code",
   "execution_count": 12,
   "metadata": {
    "id": "wP6SYFbTcsNK"
   },
   "outputs": [],
   "source": [
    "df.PRICE= np.round(df.PRICE/1000)"
   ]
  },
  {
   "cell_type": "markdown",
   "metadata": {
    "id": "wf1VJatFbwZk"
   },
   "source": [
    "A view of the dataset"
   ]
  },
  {
   "cell_type": "code",
   "execution_count": 13,
   "metadata": {
    "colab": {
     "base_uri": "https://localhost:8080/"
    },
    "id": "2Rih8aYnbwZk",
    "outputId": "74812fb7-c10a-4682-df10-667e89dfa13c"
   },
   "outputs": [
    {
     "name": "stdout",
     "output_type": "stream",
     "text": [
      "   AREA   PRICE\n",
      "0  1000  5618.0\n",
      "1  1030  5201.0\n",
      "2  1060  4779.0\n",
      "3  1090  5425.0\n",
      "4  1120  5657.0\n",
      "5  1150  4945.0\n",
      "6  1180  6475.0\n",
      "7  1210  5352.0\n",
      "8  1240  6290.0\n",
      "9  1270  6147.0\n"
     ]
    }
   ],
   "source": [
    "print(df.head(10))"
   ]
  },
  {
   "cell_type": "markdown",
   "metadata": {
    "id": "sg7l1U3CbwZk"
   },
   "source": [
    "Data type of feature and target, df is data frame"
   ]
  },
  {
   "cell_type": "code",
   "execution_count": 14,
   "metadata": {
    "colab": {
     "base_uri": "https://localhost:8080/"
    },
    "id": "bYXf2hCVbwZk",
    "outputId": "e30a9f40-ea3c-4188-c597-03258420dd0a"
   },
   "outputs": [
    {
     "name": "stdout",
     "output_type": "stream",
     "text": [
      "Shape of df:  (50, 2)\n",
      "\n",
      "Data types :\n",
      "AREA       int64\n",
      "PRICE    float64\n",
      "dtype: object\n"
     ]
    }
   ],
   "source": [
    "print(\"Shape of df: \", df.shape)\n",
    "print(\"\\nData types :\")\n",
    "print(df.dtypes)"
   ]
  },
  {
   "cell_type": "markdown",
   "metadata": {
    "id": "AhbzU_6RbwZl"
   },
   "source": [
    "So, the dataset has the information of prices of `50` different houses, with respect to their area. Now, let's define \"Feature Matrix\" and \"Target Variable Vector\", and name them `x` and `y` respectively. In this case, 'Area' is the Feature $(x)$ and 'Price' is the Target $(y)$.\n",
    "\n",
    "So, let's define them properly using pandas.\n",
    "[[]]]: will give us only one column and will retain the two dimentions of array\n",
    "however the target could be one dimention also []"
   ]
  },
  {
   "cell_type": "code",
   "execution_count": 15,
   "metadata": {
    "colab": {
     "base_uri": "https://localhost:8080/"
    },
    "id": "h6V1Of_8bwZl",
    "outputId": "12aa05db-8f13-4520-d12b-41d0c9cea31c"
   },
   "outputs": [
    {
     "name": "stdout",
     "output_type": "stream",
     "text": [
      "Shape of x (50, 1)\n",
      "First 10 rows of x:\n",
      " [[1000]\n",
      " [1030]\n",
      " [1060]\n",
      " [1090]\n",
      " [1120]\n",
      " [1150]\n",
      " [1180]\n",
      " [1210]\n",
      " [1240]\n",
      " [1270]]\n"
     ]
    }
   ],
   "source": [
    "x = df[[\"AREA\"]].values\n",
    "print(\"Shape of x\", x.shape)\n",
    "print(\"First 10 rows of x:\\n\", x[:10])"
   ]
  },
  {
   "cell_type": "code",
   "execution_count": 16,
   "metadata": {
    "colab": {
     "base_uri": "https://localhost:8080/"
    },
    "id": "kXtYT5R3bwZl",
    "outputId": "0c5ded09-4b55-4782-e62c-60870573fa17"
   },
   "outputs": [
    {
     "name": "stdout",
     "output_type": "stream",
     "text": [
      "Shape of y (50,)\n",
      "First 10 values of y:\n",
      " [5618. 5201. 4779. 5425. 5657. 4945. 6475. 5352. 6290. 6147.]\n"
     ]
    }
   ],
   "source": [
    "y = df[\"PRICE\"].values\n",
    "print(\"Shape of y\", y.shape)\n",
    "print(\"First 10 values of y:\\n\", y[:10])"
   ]
  },
  {
   "cell_type": "markdown",
   "metadata": {
    "id": "U2k8MZbSbwZm"
   },
   "source": [
    "NOTE: `x` is always a 2-dimensional Matrix "
   ]
  },
  {
   "cell_type": "markdown",
   "metadata": {
    "id": "oEdzfGZ7bwZm"
   },
   "source": [
    "### Break Data Up Into Training And Test Datasets\n",
    "\n",
    "Now for the real work. To judge how how good our model is, we need something to test it against. We can accomplish this using a technique called cross-validation. Cross-validation can get much more complicated and powerful, but in this example we are going do the most simple version of this technique.\n",
    "\n",
    "---\n",
    "\n",
    "**Steps**\n",
    "\n",
    "1. Divide the dataset into two datasets: A 'training' dataset that we will use to train our model and a 'test' dataset that we will use to judge the accuracy of that model.\n",
    "2. Train the model on the 'training' data.\n",
    "3. Apply that model to the test data's $x$ variable, creating the model's guesses for the test data's $y$.\n",
    "4. Compare how close the model's predictions for the test data's $y$ were to the actual test data $y$.\n",
    "\n",
    "source: [Chris Albon](https://chrisalbon.com/machine-learning/linear_regression_scikit-learn.html)\n",
    "\n",
    "---\n",
    "\n",
    "Now, $x$ and $y$ are ready. To split our data in to  'training set' and 'test set', we can use `sklearn.model_selection` module's `train_test_split` function.\n",
    "\n",
    "For more details on `train_test_split`, please see [sklearn documentation](http://scikit-learn.org/stable/modules/generated/sklearn.model_selection.train_test_split.html)\n",
    "\n",
    "So, let's split our dataset."
   ]
  },
  {
   "cell_type": "code",
   "execution_count": 17,
   "metadata": {
    "id": "J2DY9Q9DbwZm"
   },
   "outputs": [],
   "source": [
    "from sklearn.model_selection import train_test_split\n",
    "x_train, x_test, y_train, y_test = train_test_split(x, y, test_size = 1/3, random_state = 42)"
   ]
  },
  {
   "cell_type": "markdown",
   "metadata": {
    "id": "2ec6l1EDbwZm"
   },
   "source": [
    "In the above line of code, we split our data in to `4` variables namely, `x_train`, `x_test`, `y_train` and `y_test`. We are asking `train_test_split` function to split `x` and `y` into random *train* and *test* subsets. By setting `random_state` to `42`, we are directing `train_test_split` to provide us with the same split every time it is called.\n",
    "\n",
    "Now, let's check the `4` variables created by `train_test_split`.\n",
    "it will randomly split the data to tarining and testing. however we can specify the testr size"
   ]
  },
  {
   "cell_type": "code",
   "execution_count": 18,
   "metadata": {
    "colab": {
     "base_uri": "https://localhost:8080/"
    },
    "id": "nZUMWm2jbwZn",
    "outputId": "1e73056e-0e67-41bc-86ba-432eb1cb81a1"
   },
   "outputs": [
    {
     "name": "stdout",
     "output_type": "stream",
     "text": [
      "Train: \n",
      " (33, 1) (33,)\n",
      "Test: \n",
      " (17, 1) (17,)\n"
     ]
    }
   ],
   "source": [
    "print(\"Train: \\n\", x_train.shape, y_train.shape)\n",
    "print(\"Test: \\n\", x_test.shape, y_test.shape)"
   ]
  },
  {
   "cell_type": "code",
   "execution_count": 19,
   "metadata": {
    "colab": {
     "base_uri": "https://localhost:8080/"
    },
    "id": "ky0WkNyMbwZn",
    "outputId": "6f50037d-edcb-43d4-e51e-87d18b903f3d"
   },
   "outputs": [
    {
     "name": "stdout",
     "output_type": "stream",
     "text": [
      "Train:\n",
      "---------------------------------------------\n",
      "x_train:\n",
      " [[2380]\n",
      " [2410]\n",
      " [1450]\n",
      " [1270]\n",
      " [1480]]\n",
      "\n",
      "y_train:\n",
      " [17604. 17310.  7535.  6147.  9968.]\n",
      "---------------------------------------------\n"
     ]
    }
   ],
   "source": [
    "print(\"Train:\")\n",
    "print(\"-\"*45)\n",
    "print(\"x_train:\\n\", x_train[:5])\n",
    "print(\"\\ny_train:\\n\",y_train[:5])\n",
    "print(\"-\"*45)"
   ]
  },
  {
   "cell_type": "code",
   "execution_count": 20,
   "metadata": {
    "colab": {
     "base_uri": "https://localhost:8080/"
    },
    "id": "u4YMLguXbwZn",
    "outputId": "d4dba047-f1f3-4f6f-afdc-a3090923a234"
   },
   "outputs": [
    {
     "name": "stdout",
     "output_type": "stream",
     "text": [
      "Test:\n",
      "--------------------------------------------- \n",
      "\n",
      "x_test:\n",
      " [[1390]\n",
      " [2170]\n",
      " [1900]\n",
      " [2350]\n",
      " [1510]]\n",
      "\n",
      "y_test:\n",
      " [ 9457. 15457.  9912. 16845.  7614.]\n",
      "--------------------------------------------- \n",
      "\n"
     ]
    }
   ],
   "source": [
    "print(\"Test:\")\n",
    "print(\"-\"*45, \"\\n\")\n",
    "print(\"x_test:\\n\", x_test[:5])\n",
    "print(\"\\ny_test:\\n\",y_test[:5])\n",
    "print(\"-\"*45, \"\\n\")"
   ]
  },
  {
   "cell_type": "markdown",
   "metadata": {
    "id": "Ux6PJ34GbwZo"
   },
   "source": [
    "We have all the necessary components to build a linear regression model. To do this, `LinearRegression` class from `sklearn.linear_model` module to fit our regressor. Let's fit the linear regression model on our training data."
   ]
  },
  {
   "cell_type": "code",
   "execution_count": 21,
   "metadata": {
    "colab": {
     "base_uri": "https://localhost:8080/"
    },
    "id": "Uj7V0z80bwZo",
    "outputId": "602bef3b-fae2-44f2-e5ab-1253dd1fb8cf"
   },
   "outputs": [
    {
     "data": {
      "text/html": [
       "<style>#sk-container-id-1 {color: black;}#sk-container-id-1 pre{padding: 0;}#sk-container-id-1 div.sk-toggleable {background-color: white;}#sk-container-id-1 label.sk-toggleable__label {cursor: pointer;display: block;width: 100%;margin-bottom: 0;padding: 0.3em;box-sizing: border-box;text-align: center;}#sk-container-id-1 label.sk-toggleable__label-arrow:before {content: \"▸\";float: left;margin-right: 0.25em;color: #696969;}#sk-container-id-1 label.sk-toggleable__label-arrow:hover:before {color: black;}#sk-container-id-1 div.sk-estimator:hover label.sk-toggleable__label-arrow:before {color: black;}#sk-container-id-1 div.sk-toggleable__content {max-height: 0;max-width: 0;overflow: hidden;text-align: left;background-color: #f0f8ff;}#sk-container-id-1 div.sk-toggleable__content pre {margin: 0.2em;color: black;border-radius: 0.25em;background-color: #f0f8ff;}#sk-container-id-1 input.sk-toggleable__control:checked~div.sk-toggleable__content {max-height: 200px;max-width: 100%;overflow: auto;}#sk-container-id-1 input.sk-toggleable__control:checked~label.sk-toggleable__label-arrow:before {content: \"▾\";}#sk-container-id-1 div.sk-estimator input.sk-toggleable__control:checked~label.sk-toggleable__label {background-color: #d4ebff;}#sk-container-id-1 div.sk-label input.sk-toggleable__control:checked~label.sk-toggleable__label {background-color: #d4ebff;}#sk-container-id-1 input.sk-hidden--visually {border: 0;clip: rect(1px 1px 1px 1px);clip: rect(1px, 1px, 1px, 1px);height: 1px;margin: -1px;overflow: hidden;padding: 0;position: absolute;width: 1px;}#sk-container-id-1 div.sk-estimator {font-family: monospace;background-color: #f0f8ff;border: 1px dotted black;border-radius: 0.25em;box-sizing: border-box;margin-bottom: 0.5em;}#sk-container-id-1 div.sk-estimator:hover {background-color: #d4ebff;}#sk-container-id-1 div.sk-parallel-item::after {content: \"\";width: 100%;border-bottom: 1px solid gray;flex-grow: 1;}#sk-container-id-1 div.sk-label:hover label.sk-toggleable__label {background-color: #d4ebff;}#sk-container-id-1 div.sk-serial::before {content: \"\";position: absolute;border-left: 1px solid gray;box-sizing: border-box;top: 0;bottom: 0;left: 50%;z-index: 0;}#sk-container-id-1 div.sk-serial {display: flex;flex-direction: column;align-items: center;background-color: white;padding-right: 0.2em;padding-left: 0.2em;position: relative;}#sk-container-id-1 div.sk-item {position: relative;z-index: 1;}#sk-container-id-1 div.sk-parallel {display: flex;align-items: stretch;justify-content: center;background-color: white;position: relative;}#sk-container-id-1 div.sk-item::before, #sk-container-id-1 div.sk-parallel-item::before {content: \"\";position: absolute;border-left: 1px solid gray;box-sizing: border-box;top: 0;bottom: 0;left: 50%;z-index: -1;}#sk-container-id-1 div.sk-parallel-item {display: flex;flex-direction: column;z-index: 1;position: relative;background-color: white;}#sk-container-id-1 div.sk-parallel-item:first-child::after {align-self: flex-end;width: 50%;}#sk-container-id-1 div.sk-parallel-item:last-child::after {align-self: flex-start;width: 50%;}#sk-container-id-1 div.sk-parallel-item:only-child::after {width: 0;}#sk-container-id-1 div.sk-dashed-wrapped {border: 1px dashed gray;margin: 0 0.4em 0.5em 0.4em;box-sizing: border-box;padding-bottom: 0.4em;background-color: white;}#sk-container-id-1 div.sk-label label {font-family: monospace;font-weight: bold;display: inline-block;line-height: 1.2em;}#sk-container-id-1 div.sk-label-container {text-align: center;}#sk-container-id-1 div.sk-container {/* jupyter's `normalize.less` sets `[hidden] { display: none; }` but bootstrap.min.css set `[hidden] { display: none !important; }` so we also need the `!important` here to be able to override the default hidden behavior on the sphinx rendered scikit-learn.org. See: https://github.com/scikit-learn/scikit-learn/issues/21755 */display: inline-block !important;position: relative;}#sk-container-id-1 div.sk-text-repr-fallback {display: none;}</style><div id=\"sk-container-id-1\" class=\"sk-top-container\"><div class=\"sk-text-repr-fallback\"><pre>LinearRegression()</pre><b>In a Jupyter environment, please rerun this cell to show the HTML representation or trust the notebook. <br />On GitHub, the HTML representation is unable to render, please try loading this page with nbviewer.org.</b></div><div class=\"sk-container\" hidden><div class=\"sk-item\"><div class=\"sk-estimator sk-toggleable\"><input class=\"sk-toggleable__control sk-hidden--visually\" id=\"sk-estimator-id-1\" type=\"checkbox\" checked><label for=\"sk-estimator-id-1\" class=\"sk-toggleable__label sk-toggleable__label-arrow\">LinearRegression</label><div class=\"sk-toggleable__content\"><pre>LinearRegression()</pre></div></div></div></div></div>"
      ],
      "text/plain": [
       "LinearRegression()"
      ]
     },
     "execution_count": 21,
     "metadata": {},
     "output_type": "execute_result"
    }
   ],
   "source": [
    "from sklearn.linear_model import LinearRegression \n",
    "regressor = LinearRegression()\n",
    "regressor.fit(x_train, y_train)"
   ]
  },
  {
   "cell_type": "markdown",
   "metadata": {
    "id": "weRvEbJbbwZo"
   },
   "source": [
    "Now that the model has learnt on training set, let's predict on test set. We can generate predictions `y_pred` on `x_test` using `predict` method.  With `y_pred` and `y_true`, we can evaluate our model's performance by camparision."
   ]
  },
  {
   "cell_type": "code",
   "execution_count": 22,
   "metadata": {
    "colab": {
     "base_uri": "https://localhost:8080/"
    },
    "id": "4GdPgEl9bwZo",
    "outputId": "8a3274d6-2a80-49ab-b1a2-47c3e88642ae"
   },
   "outputs": [
    {
     "data": {
      "text/plain": [
       "array([ 7668.59228444, 14526.23888278, 12152.4381372 , 16108.77271317,\n",
       "        8723.61483803, 16900.03962836, 11097.41558361, 10833.65994521,\n",
       "       12679.949414  ,  9251.12611482,  7404.83664604,  5294.79153886,\n",
       "       13998.72760599,  6349.81409245,  5031.03590046,  5822.30281565,\n",
       "       15053.75015958])"
      ]
     },
     "execution_count": 22,
     "metadata": {},
     "output_type": "execute_result"
    }
   ],
   "source": [
    "y_pred = regressor.predict(x_test)\n",
    "\n",
    "y_pred"
   ]
  },
  {
   "cell_type": "markdown",
   "metadata": {
    "id": "APnJvPLFbwZp"
   },
   "source": [
    "Above is the set of $y$ values predicted by the model for `x_test` input. We can compare the predicted values with the actual $y$ values by checking it as well."
   ]
  },
  {
   "cell_type": "code",
   "execution_count": 23,
   "metadata": {
    "colab": {
     "base_uri": "https://localhost:8080/"
    },
    "id": "jz0op-N_bwZp",
    "outputId": "6851b5c9-9e73-4486-fb57-a5cef3df3b86"
   },
   "outputs": [
    {
     "data": {
      "text/plain": [
       "array([ 9457., 15457.,  9912., 16845.,  7614., 14036.,  9288.,  8314.,\n",
       "        9085., 10067.,  8712.,  5657., 12574.,  6290.,  5425.,  6475.,\n",
       "       12641.])"
      ]
     },
     "execution_count": 23,
     "metadata": {},
     "output_type": "execute_result"
    }
   ],
   "source": [
    "y_test"
   ]
  },
  {
   "cell_type": "markdown",
   "metadata": {
    "id": "wiVrA9rKbwZp"
   },
   "source": [
    "It's uneasy to compare `y_pred` and `y_test` by comparing each values. One way of comparing them is by vizualization. So, let's visualize the dataset and the model to get a better insight. To begin with, let's visualize the training set as scatter plot.\n",
    "\n",
    "`plt.scatter` can be used to get a scatter plot. Now, it's time to visualize the Linear Regression model and understand its prediction."
   ]
  },
  {
   "cell_type": "code",
   "execution_count": 24,
   "metadata": {
    "colab": {
     "base_uri": "https://localhost:8080/",
     "height": 557
    },
    "id": "h9TZqUWPbwZp",
    "outputId": "0affb22f-3d86-4ea5-dace-e49c1a11129f"
   },
   "outputs": [
    {
     "data": {
      "text/plain": [
       "<matplotlib.collections.PathCollection at 0x179987950>"
      ]
     },
     "execution_count": 24,
     "metadata": {},
     "output_type": "execute_result"
    },
    {
     "data": {
      "image/png": "[encoded data removed]",
      "text/plain": [
       "<Figure size 640x480 with 1 Axes>"
      ]
     },
     "metadata": {},
     "output_type": "display_data"
    }
   ],
   "source": [
    "plt.scatter(x_train, y_train)"
   ]
  },
  {
   "cell_type": "code",
   "execution_count": 25,
   "metadata": {
    "colab": {
     "base_uri": "https://localhost:8080/",
     "height": 557
    },
    "id": "_PGTFwumbwZq",
    "outputId": "fb8b9184-d0b9-4d2b-c505-dd1efe3b06fd"
   },
   "outputs": [
    {
     "data": {
      "text/plain": [
       "[<matplotlib.lines.Line2D at 0x179e60290>]"
      ]
     },
     "execution_count": 25,
     "metadata": {},
     "output_type": "execute_result"
    },
    {
     "data": {
      "image/png": "[encoded data removed]",
      "text/plain": [
       "<Figure size 640x480 with 1 Axes>"
      ]
     },
     "metadata": {},
     "output_type": "display_data"
    }
   ],
   "source": [
    "plt.plot(x_train, regressor.predict(x_train), color = 'orange')"
   ]
  },
  {
   "cell_type": "code",
   "execution_count": 26,
   "metadata": {
    "colab": {
     "base_uri": "https://localhost:8080/",
     "height": 557
    },
    "id": "HkjmrRddbwZq",
    "outputId": "6e0deadc-2379-4066-fbe2-e32f5be2fed5"
   },
   "outputs": [
    {
     "data": {
      "text/plain": [
       "[<matplotlib.lines.Line2D at 0x179ec04d0>]"
      ]
     },
     "execution_count": 26,
     "metadata": {},
     "output_type": "execute_result"
    },
    {
     "data": {
      "image/png": "[encoded data removed]",
      "text/plain": [
       "<Figure size 640x480 with 1 Axes>"
      ]
     },
     "metadata": {},
     "output_type": "display_data"
    }
   ],
   "source": [
    "plt.scatter(x_train, y_train)\n",
    "plt.plot(x_train, regressor.predict(x_train), color = 'orange')"
   ]
  },
  {
   "cell_type": "markdown",
   "metadata": {
    "id": "HP7hpSfkbwZq"
   },
   "source": [
    "Now, comparison is much clear and model looks as a good representation of the data pattern.  Let's redraw the plot with proper annotations.\n"
   ]
  },
  {
   "cell_type": "code",
   "execution_count": 27,
   "metadata": {
    "colab": {
     "base_uri": "https://localhost:8080/",
     "height": 603
    },
    "id": "qJx8v3M7bwZr",
    "outputId": "a0da0b80-2120-4c43-c6d4-a27eed0f2b1e"
   },
   "outputs": [
    {
     "data": {
      "text/plain": [
       "Text(0.5, 1.0, 'House Area vs House Price (Train)')"
      ]
     },
     "execution_count": 27,
     "metadata": {},
     "output_type": "execute_result"
    },
    {
     "data": {
      "image/png": "[encoded data removed]",
      "text/plain": [
       "<Figure size 2000x1000 with 1 Axes>"
      ]
     },
     "metadata": {},
     "output_type": "display_data"
    }
   ],
   "source": [
    "fig = plt.figure(figsize=(20, 10))\n",
    "ax = fig.add_subplot(111)\n",
    "ax.scatter(x_train, y_train, antialiased=True)\n",
    "ax.plot(x_train, regressor.predict(x_train), color = 'orange')\n",
    "ax.set_xlabel(\"Area (in Sq. Ft.)\")\n",
    "ax.set_ylabel(\"Price (in Rs.$1000$)\")\n",
    "ax.set_title(\"House Area vs House Price (Train)\")"
   ]
  },
  {
   "cell_type": "markdown",
   "metadata": {
    "id": "qO7w1VIWbwZr"
   },
   "source": [
    "Above plot clearly helps us to visualize how good is our model's prediction with respect to training set. With this, we can now visualize how good is the model fits to new inputs as well. Let's use test set, `x_test` as data for scatter plot and also plot regression line."
   ]
  },
  {
   "cell_type": "code",
   "execution_count": 28,
   "metadata": {
    "colab": {
     "base_uri": "https://localhost:8080/",
     "height": 603
    },
    "id": "2kVkrZKubwZr",
    "outputId": "309f0c03-3601-4d68-98b3-e2b2259266d5"
   },
   "outputs": [
    {
     "data": {
      "text/plain": [
       "Text(0.5, 1.0, 'House Area vs House Price (Test)')"
      ]
     },
     "execution_count": 28,
     "metadata": {},
     "output_type": "execute_result"
    },
    {
     "data": {
      "image/png": "[encoded data removed]",
      "text/plain": [
       "<Figure size 2000x1000 with 1 Axes>"
      ]
     },
     "metadata": {},
     "output_type": "display_data"
    }
   ],
   "source": [
    "fig = plt.figure(figsize=(20, 10))\n",
    "ax = fig.add_subplot(111)\n",
    "ax.scatter(x_test, y_test, antialiased=True)\n",
    "ax.plot(x_test, regressor.predict(x_test), color = 'orange')\n",
    "ax.set_xlabel(\"Area (in Sq. Ft.)\")\n",
    "ax.set_ylabel(\"Price (in Rs.$1000$)\")\n",
    "ax.set_title(\"House Area vs House Price (Test)\")"
   ]
  },
  {
   "cell_type": "markdown",
   "metadata": {
    "id": "ZC0dF9ZFbwZr"
   },
   "source": [
    "It's evident that, the model is doing a very decent prediction, as the actual $y$ values (`y_test`) and the predicted $y$ values are in good agreement. But, just eye balling the regression line can not be a valid metric to assess the model. Therefore, we introduce $R^2$ score "
   ]
  },
  {
   "cell_type": "markdown",
   "metadata": {
    "id": "KC1MzlKubwZr"
   },
   "source": [
    "## Model Evaluation"
   ]
  },
  {
   "cell_type": "markdown",
   "metadata": {
    "id": "CVEBy9IqbwZs"
   },
   "source": [
    "Going back to the concept of error in the Simple Linear Regression, consider the following observation.\n",
    "\n",
    "<img src =\"../img/model_evaluation1.png\"/>\n",
    "\n",
    "For the above set of observations, Simple Linear Regression is consturcted using 'Ordinary Least Squares' method, minimizing the sum of the squares of the difference between the actual value ($y_i$) and the predicted value ($\\hat{y_i}$).\n",
    "\n",
    "The value with minimum value for the sum of the square of errors will be the best fitting line or simple linear regression model. This is also called as **Sum of squared errors** or **Sum of Squres of residual Errors** ($SSE_{res}$). \n",
    "\n",
    "Note: The error is also called residuals.\n",
    "\n",
    "$$SSE_{res} = \\sum(y_i - \\hat{y_i})^2$$\n",
    "\n"
   ]
  },
  {
   "cell_type": "markdown",
   "metadata": {
    "id": "y54w6GVObwZs"
   },
   "source": [
    "### Baseline Model"
   ]
  },
  {
   "cell_type": "markdown",
   "metadata": {
    "id": "_hE7W0FubwZs"
   },
   "source": [
    "To define a metric for our model's performance we need to define a baseline model to compare our model with. The baseline model is a model which always predicts average value of the target in case of regression. This is due to the fact that most of the values of target are around its mean. Let's calculate the average value of target.\n",
    "\n",
    "Now, let's replace the regression line by average line and project the observation on average line as shown below,\n",
    "\n",
    "<img src =\"../img/model_evaluation2.png\"/>\n"
   ]
  },
  {
   "cell_type": "markdown",
   "metadata": {
    "id": "Eg_k9vdKbwZs"
   },
   "source": [
    "If the error is caluclated with respect to the average line, then squared and sum for all the observations is taken, it is called **Total sum of squares** ($SSE_{tot}$). It is also denoted by $TSS$\n",
    "\n",
    "$$ TSS = \\sum(y_i - y_{avg})^2$$ \n",
    "\n"
   ]
  },
  {
   "cell_type": "code",
   "execution_count": 29,
   "metadata": {
    "colab": {
     "base_uri": "https://localhost:8080/"
    },
    "id": "ljXYuB-jbwZs",
    "outputId": "66f94f94-42b7-491d-d085-897b7733f0e0"
   },
   "outputs": [
    {
     "name": "stdout",
     "output_type": "stream",
     "text": [
      "Baseline prediction:  10793.7\n"
     ]
    }
   ],
   "source": [
    "baseline_pred = np.round(y_train.mean(), 2)\n",
    "print(\"Baseline prediction: \", baseline_pred)"
   ]
  },
  {
   "cell_type": "markdown",
   "metadata": {
    "id": "4ac2RZp3bwZt"
   },
   "source": [
    "No matter what the area of the house is, we always predict the price of the house to be `10793.7`"
   ]
  },
  {
   "cell_type": "code",
   "execution_count": 30,
   "metadata": {
    "colab": {
     "base_uri": "https://localhost:8080/"
    },
    "id": "LnRzAONybwZt",
    "outputId": "54886ca2-61c8-445b-c264-8fe73a0081b5"
   },
   "outputs": [
    {
     "name": "stdout",
     "output_type": "stream",
     "text": [
      "Errors: \n",
      " [ 6810.3  6516.3 -3258.7 -4646.7  -825.7  -564.7  4426.3  -589.7 -5175.7\n",
      "  5499.3  -290.7  -553.7 -5848.7   733.3 -3758.7 11476.3 -5592.7  -592.7\n",
      " -6014.7  6175.3  1484.3 -1018.7  1999.3 -3075.7  -742.7 -1031.7  2905.3\n",
      " -2719.7 -5441.7  6413.3 -3489.7 -1030.7  1824.3]\n",
      "\n",
      "Squared Errors:\n",
      " [4.63801861e+07 4.24621657e+07 1.06191257e+07 2.15918209e+07\n",
      " 6.81780490e+05 3.18886090e+05 1.95921317e+07 3.47746090e+05\n",
      " 2.67878705e+07 3.02423005e+07 8.45064900e+04 3.06583690e+05\n",
      " 3.42072917e+07 5.37728890e+05 1.41278257e+07 1.31705462e+08\n",
      " 3.12782933e+07 3.51293290e+05 3.61766161e+07 3.81343301e+07\n",
      " 2.20314649e+06 1.03774969e+06 3.99720049e+06 9.45993049e+06\n",
      " 5.51603290e+05 1.06440489e+06 8.44076809e+06 7.39676809e+06\n",
      " 2.96120989e+07 4.11304169e+07 1.21780061e+07 1.06234249e+06\n",
      " 3.32807049e+06]\n",
      "\n",
      "Sum of Squared Errors for Baseline model:  607396450.97\n"
     ]
    }
   ],
   "source": [
    "differnces = y_train - baseline_pred\n",
    "print(\"Errors: \\n\", differnces)\n",
    "squared_differnces = differnces**2\n",
    "print(\"\\nSquared Errors:\\n\", squared_differnces)\n",
    "sse = squared_differnces.sum()\n",
    "print(\"\\nSum of Squared Errors for Baseline model: \", sse)"
   ]
  },
  {
   "cell_type": "markdown",
   "metadata": {
    "id": "vbFc7smmbwZt"
   },
   "source": [
    "Lets define a function which calculates __SSE__."
   ]
  },
  {
   "cell_type": "code",
   "execution_count": 31,
   "metadata": {
    "id": "zWAvFKFZbwZt"
   },
   "outputs": [],
   "source": [
    "def sse(y_true, y_pred):\n",
    "    return ((y_true-y_pred)**2).sum()"
   ]
  },
  {
   "cell_type": "markdown",
   "metadata": {
    "id": "3stt0fL-bwZt"
   },
   "source": [
    "Let's calculate __SSE__ for our regression model. "
   ]
  },
  {
   "cell_type": "code",
   "execution_count": 32,
   "metadata": {
    "id": "hGrJNEf6bwZu"
   },
   "outputs": [],
   "source": [
    "y_train_pred = regressor.predict(x_train)"
   ]
  },
  {
   "cell_type": "code",
   "execution_count": 33,
   "metadata": {
    "colab": {
     "base_uri": "https://localhost:8080/"
    },
    "id": "gY2q8M7xbwZu",
    "outputId": "41e96612-d773-4ee3-8766-374f18344ffa"
   },
   "outputs": [
    {
     "name": "stdout",
     "output_type": "stream",
     "text": [
      "Regression Model SSE 131819322.75993815\n"
     ]
    }
   ],
   "source": [
    "sse_train = sse(y_train, y_train_pred)\n",
    "print(\"Regression Model SSE\", sse_train)"
   ]
  },
  {
   "cell_type": "markdown",
   "metadata": {
    "id": "HeuupbFZbwZu"
   },
   "source": [
    "As you can see our model does better than baseline model. We can not do worse than our basline model on training set. \n",
    "\n",
    "__Problems with SSE as model evaluation metric__: \n",
    "\n",
    "A $SSE$ value closer to 0 indicates that the model has a smaller error component, and that the fit will be more useful for prediction. However there is no upper bound for $SSE$. Naturally, with more data points, $SSE$ is bound to increase irrespective of goodness of fit. That is, for the same model if you increase the number of observations to calculate $SSE$, the $SSE$ higher than the previous $SSE$ (with fewer observations). This is not an robust metric to evaluate a model. We have to define a new metric to evaluate based on baseline model which is more interpretable than $SSE$."
   ]
  },
  {
   "cell_type": "markdown",
   "metadata": {
    "id": "u6dS7bc2bwZu"
   },
   "source": [
    "### $R^2$ Score\n"
   ]
  },
  {
   "cell_type": "markdown",
   "metadata": {
    "id": "gT-ynBcfbwZu"
   },
   "source": [
    "We define $R^2$ for a model as, \n",
    "\n",
    "$$R^2 = 1 - \\frac{SSE}{TSS}$$\n",
    "\n",
    "Average line is also a linear regression model with zero slope (horizontal). But it is always easy to get that line straight away by taking the average of all the data points. But it is evident that it is not a good fit, as it is not representing the data well. So, a sloped line is fit to the model which minimizes the value of $SSE_{res}$ and to get a best fit line.\n",
    "\n",
    "So, $R^2$ speaks about how good is the regression line in comparison with the average line.\n",
    "\n",
    "In the equation of $R^2$, when $SSE_{res}$ value reduces, the fraction value reduces and the value of $R^2$ will be greater. In an ideal case where $SSE_{res}$ value is $0$, the model predicts every observation perfectly and value of $R^2$ will be $1$.\n",
    "\n",
    "$R^2$ value ranges from 0 and 1. Closer the $R^2$ value to one, better the fit.\n",
    "\n",
    "\n"
   ]
  },
  {
   "cell_type": "markdown",
   "metadata": {
    "id": "7hI59KivbwZv"
   },
   "source": [
    "Some of the important properties of $R^2$ are:\n",
    "\n",
    "* $R^2$ for the basline model is $0$\n",
    "* $R^2$ for a perfect model is $1$\n",
    "* Higher the $R^2$ score better the model's performance.\n",
    "* $R^2$ is always between $0$ and $1$,"
   ]
  },
  {
   "cell_type": "markdown",
   "metadata": {
    "id": "CnHt3SyBbwZv"
   },
   "source": [
    "Let's import $R^2$ score function called `r2_score` from `sklearn.metrics`."
   ]
  },
  {
   "cell_type": "code",
   "execution_count": 34,
   "metadata": {
    "id": "odjiRe4ZbwZv"
   },
   "outputs": [],
   "source": [
    "from sklearn.metrics import r2_score"
   ]
  },
  {
   "cell_type": "markdown",
   "metadata": {
    "id": "xuYvj6DwbwZv"
   },
   "source": [
    "$R^2$ score for baseline model"
   ]
  },
  {
   "cell_type": "code",
   "execution_count": 35,
   "metadata": {
    "colab": {
     "base_uri": "https://localhost:8080/"
    },
    "id": "-V0o-f_0bwZv",
    "outputId": "d7febbcc-8db6-49dd-c42f-755115cf7186"
   },
   "outputs": [
    {
     "name": "stdout",
     "output_type": "stream",
     "text": [
      "-0.0\n"
     ]
    }
   ],
   "source": [
    "baseline_score = r2_score(y_train, [baseline_pred] * len(y_train))\n",
    "print(baseline_score.round(2))"
   ]
  },
  {
   "cell_type": "markdown",
   "metadata": {
    "id": "b_gENfY0bwZw"
   },
   "source": [
    "$R^2$ score for our regressor model on Training set"
   ]
  },
  {
   "cell_type": "code",
   "execution_count": 36,
   "metadata": {
    "colab": {
     "base_uri": "https://localhost:8080/"
    },
    "id": "DwpiG6v1bwZw",
    "outputId": "78e08c07-ab01-405b-8deb-8ce698dfabf2"
   },
   "outputs": [
    {
     "name": "stdout",
     "output_type": "stream",
     "text": [
      "0.78\n"
     ]
    }
   ],
   "source": [
    "model_score = r2_score(y_train, y_train_pred)\n",
    "print(model_score.round(2))"
   ]
  },
  {
   "cell_type": "markdown",
   "metadata": {
    "id": "Xelf0z9ibwZw"
   },
   "source": [
    "As you can see, we can now compare model's performance effectively using $R^2$ score as it is between $0$ and $1$\n",
    "\n",
    "Let's calculate $R^2$ score for our regressor model on Test set"
   ]
  },
  {
   "cell_type": "code",
   "execution_count": 37,
   "metadata": {
    "colab": {
     "base_uri": "https://localhost:8080/"
    },
    "id": "ORsLAVNLbwZw",
    "outputId": "c7a140ad-8786-4867-8d4a-bb7d89377c5d"
   },
   "outputs": [
    {
     "name": "stdout",
     "output_type": "stream",
     "text": [
      "0.71\n"
     ]
    }
   ],
   "source": [
    "test_score = r2_score(y_test, regressor.predict(x_test))\n",
    "print(test_score.round(2))"
   ]
  }
 ],
 "metadata": {
  "anaconda-cloud": {},
  "colab": {
   "provenance": []
  },
  "kernelspec": {
   "display_name": "Python 3",
   "language": "python",
   "name": "python3"
  },
  "language_info": {
   "codemirror_mode": {
    "name": "ipython",
    "version": 3
   },
   "file_extension": ".py",
   "mimetype": "text/x-python",
   "name": "python",
   "nbconvert_exporter": "python",
   "pygments_lexer": "ipython3",
   "version": "3.11.6"
  }
 },
 "nbformat": 4,
 "nbformat_minor": 1
}
